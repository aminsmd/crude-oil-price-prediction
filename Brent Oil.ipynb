{
 "cells": [
  {
   "cell_type": "code",
   "execution_count": 1,
   "metadata": {},
   "outputs": [
    {
     "name": "stderr",
     "output_type": "stream",
     "text": [
      "Using TensorFlow backend.\n"
     ]
    }
   ],
   "source": [
    "import pandas as pd\n",
    "import matplotlib.pyplot as plt\n",
    "import numpy as np\n",
    "from keras.preprocessing import sequence"
   ]
  },
  {
   "cell_type": "code",
   "execution_count": 2,
   "metadata": {},
   "outputs": [],
   "source": [
    "a = pd.DataFrame(pd.read_csv(\"/Users/amin/Downloads/DCOILBRENTEU.csv\"))"
   ]
  },
  {
   "cell_type": "code",
   "execution_count": 3,
   "metadata": {},
   "outputs": [],
   "source": [
    "a = a[a.DCOILBRENTEU != '.']"
   ]
  },
  {
   "cell_type": "code",
   "execution_count": 15,
   "metadata": {},
   "outputs": [],
   "source": [
    "#setting learning parameters\n",
    "batch_size = 64\n",
    "epochs = 20\n",
    "time_steps = 20"
   ]
  },
  {
   "cell_type": "code",
   "execution_count": 5,
   "metadata": {},
   "outputs": [],
   "source": [
    "def get_train_length(dataset, batch_size, test_percent):\n",
    "    # substract test_percent to be excluded from training, reserved for testset\n",
    "    length = len(dataset)\n",
    "    length *= 1 - test_percent\n",
    "    train_length_values = []\n",
    "    for x in range(int(length) - 100,int(length)): \n",
    "        modulo=x%batch_size\n",
    "        if (modulo == 0):\n",
    "            train_length_values.append(x)\n",
    "            print(x)\n",
    "    return (max(train_length_values))"
   ]
  },
  {
   "cell_type": "code",
   "execution_count": 6,
   "metadata": {},
   "outputs": [
    {
     "name": "stdout",
     "output_type": "stream",
     "text": [
      "7232\n",
      "7232\n"
     ]
    }
   ],
   "source": [
    "length = get_train_length(a, batch_size, 0.08)\n",
    "print(length)"
   ]
  },
  {
   "cell_type": "code",
   "execution_count": 7,
   "metadata": {},
   "outputs": [],
   "source": [
    "training_set = a.iloc[:,1:2]"
   ]
  },
  {
   "cell_type": "code",
   "execution_count": 8,
   "metadata": {},
   "outputs": [
    {
     "data": {
      "text/plain": [
       "(7903, 1)"
      ]
     },
     "execution_count": 8,
     "metadata": {},
     "output_type": "execute_result"
    }
   ],
   "source": [
    "from sklearn.preprocessing import MinMaxScaler\n",
    "sc = MinMaxScaler(feature_range = (0, 1))\n",
    "training_set_scaled = sc.fit_transform(np.float64(training_set))\n",
    "training_set_scaled.shape"
   ]
  },
  {
   "cell_type": "code",
   "execution_count": 9,
   "metadata": {},
   "outputs": [],
   "source": [
    "xtrain = []\n",
    "ytrain = []\n",
    "xtest = []\n",
    "ytest = []\n",
    "for i in range(time_steps,len(a)-1):\n",
    "    if(i<length-1):\n",
    "        xtrain.append(training_set_scaled[i-time_steps:i])\n",
    "        ytrain.append(training_set_scaled[i-time_steps+1:i+1])\n",
    "    else:\n",
    "        xtest.append(training_set_scaled[i-time_steps:i])\n",
    "        ytest.append(training_set_scaled[i-time_steps+1:i+1])\n",
    "\n",
    "xtrain = np.array(xtrain)\n",
    "ytrain = np.array(ytrain)\n",
    "xtest = np.array(xtest[0:640])\n",
    "ytest = np.array(ytest[0:640])\n"
   ]
  },
  {
   "cell_type": "code",
   "execution_count": 10,
   "metadata": {},
   "outputs": [],
   "source": [
    "xtrain = xtrain[0:7168]"
   ]
  },
  {
   "cell_type": "code",
   "execution_count": 11,
   "metadata": {},
   "outputs": [],
   "source": [
    "ytrain = ytrain[0:7168]"
   ]
  },
  {
   "cell_type": "code",
   "execution_count": 12,
   "metadata": {},
   "outputs": [],
   "source": [
    "from keras.layers import LSTM,Dense,Input,Bidirectional\n",
    "from keras.models import Model\n"
   ]
  },
  {
   "cell_type": "code",
   "execution_count": 13,
   "metadata": {},
   "outputs": [],
   "source": [
    "input_layer = Input(batch_shape=(batch_size,time_steps,1))\n",
    "lstm1 = Bidirectional(LSTM(units=time_steps,stateful=True,return_sequences=True))(input_layer)\n",
    "lstm2 = Bidirectional(LSTM(time_steps,stateful=True,return_sequences=True))(lstm1)\n",
    "l1 = Dense(units=10)(lstm2)\n",
    "out = Dense(units=1)(l1)\n",
    "\n",
    "model = Model(inputs=input_layer,outputs=out)"
   ]
  },
  {
   "cell_type": "code",
   "execution_count": 14,
   "metadata": {},
   "outputs": [
    {
     "name": "stdout",
     "output_type": "stream",
     "text": [
      "_________________________________________________________________\n",
      "Layer (type)                 Output Shape              Param #   \n",
      "=================================================================\n",
      "input_1 (InputLayer)         (64, 20, 1)               0         \n",
      "_________________________________________________________________\n",
      "bidirectional_1 (Bidirection (64, 20, 40)              3520      \n",
      "_________________________________________________________________\n",
      "bidirectional_2 (Bidirection (64, 20, 40)              9760      \n",
      "_________________________________________________________________\n",
      "dense_1 (Dense)              (64, 20, 10)              410       \n",
      "_________________________________________________________________\n",
      "dense_2 (Dense)              (64, 20, 1)               11        \n",
      "=================================================================\n",
      "Total params: 13,701\n",
      "Trainable params: 13,701\n",
      "Non-trainable params: 0\n",
      "_________________________________________________________________\n"
     ]
    }
   ],
   "source": [
    "model.compile(optimizer='adam',loss = 'mae')\n",
    "model.summary()"
   ]
  },
  {
   "cell_type": "code",
   "execution_count": 24,
   "metadata": {},
   "outputs": [
    {
     "name": "stdout",
     "output_type": "stream",
     "text": [
      "Epoch 1/20\n",
      "7168/7168 [==============================] - 10s 1ms/step - loss: 0.0171\n",
      "Epoch 2/20\n",
      "7168/7168 [==============================] - 11s 1ms/step - loss: 0.0135\n",
      "Epoch 3/20\n",
      "7168/7168 [==============================] - 10s 1ms/step - loss: 0.0105\n",
      "Epoch 4/20\n",
      "7168/7168 [==============================] - 9s 1ms/step - loss: 0.0130\n",
      "Epoch 5/20\n",
      "7168/7168 [==============================] - 8s 1ms/step - loss: 0.0160\n",
      "Epoch 6/20\n",
      "7168/7168 [==============================] - 9s 1ms/step - loss: 0.0066\n",
      "Epoch 7/20\n",
      "7168/7168 [==============================] - 9s 1ms/step - loss: 0.0087\n",
      "Epoch 8/20\n",
      "7168/7168 [==============================] - 9s 1ms/step - loss: 0.0146\n",
      "Epoch 9/20\n",
      "7168/7168 [==============================] - 9s 1ms/step - loss: 0.0111\n",
      "Epoch 10/20\n",
      "7168/7168 [==============================] - 8s 1ms/step - loss: 0.0151\n",
      "Epoch 11/20\n",
      "7168/7168 [==============================] - 8s 1ms/step - loss: 0.0142\n",
      "Epoch 12/20\n",
      "7168/7168 [==============================] - 8s 1ms/step - loss: 0.0068\n",
      "Epoch 13/20\n",
      "7168/7168 [==============================] - 9s 1ms/step - loss: 0.0137\n",
      "Epoch 14/20\n",
      "7168/7168 [==============================] - 8s 1ms/step - loss: 0.0062\n",
      "Epoch 15/20\n",
      "7168/7168 [==============================] - 10s 1ms/step - loss: 0.0120\n",
      "Epoch 16/20\n",
      "7168/7168 [==============================] - 10s 1ms/step - loss: 0.0124\n",
      "Epoch 17/20\n",
      "7168/7168 [==============================] - 12s 2ms/step - loss: 0.0059\n",
      "Epoch 18/20\n",
      "7168/7168 [==============================] - 12s 2ms/step - loss: 0.0094\n",
      "Epoch 19/20\n",
      "7168/7168 [==============================] - 11s 1ms/step - loss: 0.0149\n",
      "Epoch 20/20\n",
      "7168/7168 [==============================] - 9s 1ms/step - loss: 0.0092\n"
     ]
    },
    {
     "data": {
      "text/plain": [
       "<keras.callbacks.History at 0x1a2192d278>"
      ]
     },
     "execution_count": 24,
     "metadata": {},
     "output_type": "execute_result"
    }
   ],
   "source": [
    "#model.reset_states()\n",
    "model.fit(xtrain,ytrain,shuffle=False,epochs=epochs,batch_size=batch_size)"
   ]
  },
  {
   "cell_type": "code",
   "execution_count": 25,
   "metadata": {},
   "outputs": [],
   "source": [
    "per = model.predict(xtest,batch_size=batch_size)"
   ]
  },
  {
   "cell_type": "code",
   "execution_count": 26,
   "metadata": {},
   "outputs": [],
   "source": [
    "p = sc.inverse_transform(per[:,9])"
   ]
  },
  {
   "cell_type": "code",
   "execution_count": 27,
   "metadata": {},
   "outputs": [],
   "source": [
    "y = sc.inverse_transform(ytest[:,9])"
   ]
  },
  {
   "cell_type": "code",
   "execution_count": 28,
   "metadata": {},
   "outputs": [
    {
     "data": {
      "image/png": "[encoded data removed]",
      "text/plain": [
       "<Figure size 432x288 with 1 Axes>"
      ]
     },
     "metadata": {},
     "output_type": "display_data"
    }
   ],
   "source": [
    "plt.plot(p-y, color = 'red')\n",
    "plt.show()"
   ]
  }
 ],
 "metadata": {
  "kernelspec": {
   "display_name": "Python 3",
   "language": "python",
   "name": "python3"
  },
  "language_info": {
   "codemirror_mode": {
    "name": "ipython",
    "version": 3
   },
   "file_extension": ".py",
   "mimetype": "text/x-python",
   "name": "python",
   "nbconvert_exporter": "python",
   "pygments_lexer": "ipython3",
   "version": "3.6.4"
  }
 },
 "nbformat": 4,
 "nbformat_minor": 2
}
